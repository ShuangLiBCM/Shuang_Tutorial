{
 "cells": [
  {
   "cell_type": "markdown",
   "metadata": {},
   "source": [
    "### 7. Reverse integer"
   ]
  },
  {
   "cell_type": "code",
   "execution_count": 27,
   "metadata": {
    "collapsed": true
   },
   "outputs": [],
   "source": [
    "import numpy as np"
   ]
  },
  {
   "cell_type": "code",
   "execution_count": 25,
   "metadata": {
    "collapsed": false
   },
   "outputs": [],
   "source": [
    "a = np.array(2 ** 31)"
   ]
  },
  {
   "cell_type": "code",
   "execution_count": 26,
   "metadata": {
    "collapsed": false
   },
   "outputs": [
    {
     "data": {
      "text/plain": [
       "array(-2147483648, dtype=int32)"
      ]
     },
     "execution_count": 26,
     "metadata": {},
     "output_type": "execute_result"
    }
   ],
   "source": [
    "a.astype(np.int32)"
   ]
  },
  {
   "cell_type": "markdown",
   "metadata": {},
   "source": [
    "32 bit signed integer stores values from 2^31-1 (2147483647) to -2^32(-2147483648)"
   ]
  },
  {
   "cell_type": "code",
   "execution_count": 41,
   "metadata": {
    "collapsed": true
   },
   "outputs": [],
   "source": [
    "class Solution:\n",
    "    def reverse(self, x):\n",
    "        \"\"\"\n",
    "        :type x: int\n",
    "        :rtype: int\n",
    "        \"\"\"\n",
    "        # Deal with the sign\n",
    "        if x < 0: sign=-1\n",
    "        else: sign = 1\n",
    "        \n",
    "        x = abs(x)\n",
    "        reverse = 0\n",
    "        unit = []\n",
    "        num = []\n",
    "        modulas = 0\n",
    "        k = 0\n",
    "        while x >= 1:\n",
    "            modulas = x % 10\n",
    "            unit.append(10 ** k)\n",
    "            num.append(modulas)\n",
    "            x = int(x/10)\n",
    "            k += 1\n",
    "        \n",
    "        len_x = len(unit)\n",
    "        \n",
    "        for i in range(len_x):\n",
    "            reverse += unit[len_x-1-i] * num[i]\n",
    "\n",
    "        # Deal with the overflow\n",
    "        if (reverse > 2 ** 31 - 1) or (reverse < -1 * 2 ** 31):\n",
    "            reverse = 0\n",
    "        \n",
    "        return sign * reverse"
   ]
  },
  {
   "cell_type": "code",
   "execution_count": 42,
   "metadata": {
    "collapsed": true
   },
   "outputs": [],
   "source": [
    "test = Solution()"
   ]
  },
  {
   "cell_type": "code",
   "execution_count": 46,
   "metadata": {
    "collapsed": false
   },
   "outputs": [
    {
     "data": {
      "text/plain": [
       "-43021"
      ]
     },
     "execution_count": 46,
     "metadata": {},
     "output_type": "execute_result"
    }
   ],
   "source": [
    "test.reverse(-12034)"
   ]
  },
  {
   "cell_type": "markdown",
   "metadata": {},
   "source": [
    "### 9.  Palindrome Number"
   ]
  },
  {
   "cell_type": "markdown",
   "metadata": {},
   "source": [
    "A palindrome number is one that has the same value as the reversed order number."
   ]
  },
  {
   "cell_type": "code",
   "execution_count": 98,
   "metadata": {
    "collapsed": true
   },
   "outputs": [],
   "source": [
    "class Solution:\n",
    "    def isPalindrome(self, x):\n",
    "        \"\"\"\n",
    "        :type x: int\n",
    "        :rtype: bool\n",
    "        \"\"\"\n",
    "        if x < 0: return False\n",
    "                    \n",
    "        reverse = 0\n",
    "        unit = []\n",
    "        num = []\n",
    "        k = 0\n",
    "        \n",
    "        x_abs = x\n",
    "        \n",
    "        while x_abs > 0:\n",
    "            modulas = x_abs % 10\n",
    "            unit.append(10 ** k)\n",
    "            num.append(modulas)\n",
    "            k += 1\n",
    "            x_abs = int(x_abs/10)\n",
    "        \n",
    "        unit.reverse()\n",
    "        reverse = sum([a*b for a, b in zip(unit, num)])\n",
    "        \n",
    "        return x == reverse"
   ]
  },
  {
   "cell_type": "code",
   "execution_count": 99,
   "metadata": {
    "collapsed": true
   },
   "outputs": [],
   "source": [
    "test = Solution()"
   ]
  },
  {
   "cell_type": "code",
   "execution_count": 100,
   "metadata": {
    "collapsed": false
   },
   "outputs": [
    {
     "data": {
      "text/plain": [
       "True"
      ]
     },
     "execution_count": 100,
     "metadata": {},
     "output_type": "execute_result"
    }
   ],
   "source": [
    "test.isPalindrome(1001)"
   ]
  },
  {
   "cell_type": "markdown",
   "metadata": {},
   "source": [
    "#### Lesson: Pay attention to list.reverse() methods and list comprehension with zip"
   ]
  },
  {
   "cell_type": "markdown",
   "metadata": {},
   "source": [
    "### 14. Longest Common Prefix"
   ]
  },
  {
   "cell_type": "markdown",
   "metadata": {},
   "source": [
    "Given a list of input strings, return the longest common prefix string.We will use horizontal search"
   ]
  },
  {
   "cell_type": "code",
   "execution_count": 124,
   "metadata": {
    "collapsed": false
   },
   "outputs": [],
   "source": [
    "class Solution:\n",
    "    def longestCommonPrefix(self, strs):\n",
    "        \"\"\"\n",
    "        :type strs: List[str]\n",
    "        :rtype: str\n",
    "        \"\"\"\n",
    "        len_str = len(strs)\n",
    "        if len_str > 0:\n",
    "            prev_com = strs[0]\n",
    "        else:\n",
    "            return \"\"\n",
    "        \n",
    "        i = 0\n",
    "        \n",
    "        while (i < len_str-1) and (len(prev_com) > 0):\n",
    "            len_common = len(prev_com)\n",
    "            len_new = len(strs[i+1])\n",
    "            \n",
    "            len_comp = min(len_common, len_new)\n",
    "            \n",
    "            new_common = []\n",
    "            for j in range(len_comp):\n",
    "                if prev_com[j] == strs[i+1][j]:\n",
    "                    new_common.append(prev_com[j])\n",
    "                else:\n",
    "                    break\n",
    "            \n",
    "            prev_com = ''.join(new_common)\n",
    "            i += 1\n",
    "                    \n",
    "        return prev_com"
   ]
  },
  {
   "cell_type": "code",
   "execution_count": 125,
   "metadata": {
    "collapsed": true
   },
   "outputs": [],
   "source": [
    "test = Solution()"
   ]
  },
  {
   "cell_type": "code",
   "execution_count": 126,
   "metadata": {
    "collapsed": false
   },
   "outputs": [
    {
     "data": {
      "text/plain": [
       "''"
      ]
     },
     "execution_count": 126,
     "metadata": {},
     "output_type": "execute_result"
    }
   ],
   "source": [
    "test.longestCommonPrefix([\"aca\",\"cba\"])"
   ]
  },
  {
   "cell_type": "markdown",
   "metadata": {},
   "source": [
    "#### Lesson: Think into potential conditions: e.g., [] and the required return and the definition about prefix"
   ]
  },
  {
   "cell_type": "markdown",
   "metadata": {},
   "source": [
    "### 20. Valid Parentheses"
   ]
  },
  {
   "cell_type": "markdown",
   "metadata": {},
   "source": [
    "Given a string containing just the characters '(', ')', '{', '}', '[' and ']', determine if the input string is valid.\n",
    "\n",
    "The brackets must close in the correct order, \"()\" and \"()[]{}\" are all valid but \"(]\" and \"([)]\" are not."
   ]
  },
  {
   "cell_type": "code",
   "execution_count": 597,
   "metadata": {
    "collapsed": false
   },
   "outputs": [],
   "source": [
    "class Solution:\n",
    "    def isValid(self, s):\n",
    "        \"\"\"\n",
    "        :type s: str\n",
    "        :rtype: bool\n",
    "        \"\"\"\n",
    "        list_char = '([{)]}'\n",
    "        \n",
    "        len_s = len(s)\n",
    "        \n",
    "        convert_s = [list_char.find(s_sub) for s_sub in s if list_char.find(s_sub)>=0]\n",
    "        \n",
    "        if len(convert_s)%2 == 1: \n",
    "            return False\n",
    "        \n",
    "        str_test = []\n",
    "        for i in range(len(convert_s)):\n",
    "            \n",
    "            if len(str_test) == 0:\n",
    "                if convert_s[i] > 2:\n",
    "                    return False\n",
    "                else:\n",
    "                    str_test.append(convert_s[i])\n",
    "            elif convert_s[i] - str_test[len(str_test)-1] == 3:\n",
    "                str_test.pop(-1)\n",
    "            else:\n",
    "                str_test.append(convert_s[i])\n",
    "        \n",
    "        if len(str_test) > 0:\n",
    "            return False\n",
    "        \n",
    "        return True"
   ]
  },
  {
   "cell_type": "code",
   "execution_count": 599,
   "metadata": {
    "collapsed": false
   },
   "outputs": [
    {
     "data": {
      "text/plain": [
       "False"
      ]
     },
     "execution_count": 599,
     "metadata": {},
     "output_type": "execute_result"
    }
   ],
   "source": [
    "test = Solution()\n",
    "test.isValid('[(])')"
   ]
  },
  {
   "cell_type": "markdown",
   "metadata": {},
   "source": [
    "#### Use stacking and unstacking method to find the correct format"
   ]
  },
  {
   "cell_type": "markdown",
   "metadata": {},
   "source": [
    "### 21. Merge Two Sorted Lists"
   ]
  },
  {
   "cell_type": "code",
   "execution_count": null,
   "metadata": {
    "collapsed": true
   },
   "outputs": [],
   "source": []
  }
 ],
 "metadata": {
  "kernelspec": {
   "display_name": "Python 3",
   "language": "python",
   "name": "python3"
  },
  "language_info": {
   "codemirror_mode": {
    "name": "ipython",
    "version": 3
   },
   "file_extension": ".py",
   "mimetype": "text/x-python",
   "name": "python",
   "nbconvert_exporter": "python",
   "pygments_lexer": "ipython3",
   "version": "3.5.2"
  }
 },
 "nbformat": 4,
 "nbformat_minor": 2
}
